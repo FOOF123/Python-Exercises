{
 "cells": [
  {
   "cell_type": "markdown",
   "metadata": {},
   "source": [
    "# Difference Fanout\n",
    "Given a list of numbers, for each number generate a list of the differences between it and n<sub>fanout</sub> (known as the fanout value) following numbers in the list. Return a list of all the lists generated for each number. For members in the list that have fewer than n<sub>fanout</sub> following members, calculate as many differences as possible. For example, suppose we want to compute the difference fanout on the list [3, 2, 4, 6, 1] with a fanout value of 3. Then we would compute:\n",
    "* 3 --> [2 - 3, 4 - 3, 6 - 3]\n",
    "* 2 --> [4 - 2, 6 - 2, 1 - 2]\n",
    "* 4 --> [6 - 4, 1 - 4]\n",
    "* 6 --> [1 - 6]\n",
    "* 1 --> []\n",
    "\n",
    "```\n",
    "# example behavior\n",
    ">>> difference_fanout([3, 2, 4, 6, 1], 3)\n",
    "[[-1, 1, 3], [2, 4, -1], [2, -3], [-5], []]\n",
    "```"
   ]
  },
  {
   "cell_type": "code",
   "execution_count": 20,
   "metadata": {},
   "outputs": [
    {
     "data": {
      "text/plain": [
       "[[-1, 1, 3], [2, 4, -1], [2, -3], [-5], []]"
      ]
     },
     "execution_count": 20,
     "metadata": {},
     "output_type": "execute_result"
    }
   ],
   "source": [
    "def difference_fanout(l, fanout):\n",
    "    output = []\n",
    "    for i in range(len(l)):\n",
    "        output.append([])\n",
    "    for x in range(len(l)):\n",
    "        if ((x + 1) + fanout) > len(l):\n",
    "            for z in range(len(l) - (x+1)):\n",
    "                output[x].append(l[z + x + 1] - l[x])\n",
    "        else:\n",
    "            for y in range(fanout):\n",
    "                output[x].append(l[y + x + 1] - l[x])\n",
    "    \n",
    "    return output\n",
    "\n",
    "difference_fanout([3, 2, 4, 6, 1], 3)"
   ]
  }
 ],
 "metadata": {
  "kernelspec": {
   "display_name": "Python 3.10.4 64-bit",
   "language": "python",
   "name": "python3"
  },
  "language_info": {
   "codemirror_mode": {
    "name": "ipython",
    "version": 3
   },
   "file_extension": ".py",
   "mimetype": "text/x-python",
   "name": "python",
   "nbconvert_exporter": "python",
   "pygments_lexer": "ipython3",
   "version": "3.10.4"
  },
  "orig_nbformat": 4,
  "vscode": {
   "interpreter": {
    "hash": "3ad933181bd8a04b432d3370b9dc3b0662ad032c4dfaa4e4f1596c548f763858"
   }
  }
 },
 "nbformat": 4,
 "nbformat_minor": 2
}
