{
 "cells": [
  {
   "cell_type": "markdown",
   "metadata": {},
   "source": [
    "# Encode as String\n",
    "Sometimes it is very important to handle different input object types differently in a function. This problem will exercise your understanding of types, control-flow, dictionaries, and more.\n",
    "\n",
    "We want to encode a sequence of Python objects as a single string. The following describes the encoding method that we want to use for each type of object. Each object’s transcription in should be separated by \" | \", and the result should be one large string.\n",
    "\n",
    "* If the object is an integer, convert it into a string by spelling out each digit in base-10 in this format: 142  one-four-two; -12  neg-one-two.\n",
    "\n",
    "* If the object is a float, just append its integer part (obtained by rounding down) the same way and the string \"and float\": 12.324  one-two and float.\n",
    "\n",
    "* If the object is a string, keep it as is.\n",
    "\n",
    "* If the object is of any other type, return '`<OTHER>`'.\n",
    "\n",
    "```\n",
    "# example behavior\n",
    ">>> s = concat_to_str([12,-14.23,\"hello\", True,\n",
    "...                    \"Aha\", 10.1, None, 5])\n",
    ">>> s\n",
    "'one-two | neg-one-four and float | hello | <OTHER> | Aha | one-zero and float | <OTHER> | five'\n",
    "```"
   ]
  },
  {
   "cell_type": "code",
   "execution_count": 1,
   "metadata": {},
   "outputs": [],
   "source": [
    "def concat_to_str(l):\n",
    "    return\n",
    "\n",
    "concat_to_str([12,-14.23,\"hello\", True, \"Aha\", 10.1, None, 5])"
   ]
  }
 ],
 "metadata": {
  "kernelspec": {
   "display_name": "Python 3.10.4 64-bit",
   "language": "python",
   "name": "python3"
  },
  "language_info": {
   "codemirror_mode": {
    "name": "ipython",
    "version": 3
   },
   "file_extension": ".py",
   "mimetype": "text/x-python",
   "name": "python",
   "nbconvert_exporter": "python",
   "pygments_lexer": "ipython3",
   "version": "3.10.4"
  },
  "orig_nbformat": 4,
  "vscode": {
   "interpreter": {
    "hash": "3ad933181bd8a04b432d3370b9dc3b0662ad032c4dfaa4e4f1596c548f763858"
   }
  }
 },
 "nbformat": 4,
 "nbformat_minor": 2
}
