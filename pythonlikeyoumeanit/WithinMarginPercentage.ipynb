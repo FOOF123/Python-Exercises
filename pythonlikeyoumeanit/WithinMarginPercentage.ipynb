{
 "cells": [
  {
   "cell_type": "markdown",
   "metadata": {},
   "source": [
    "# Within Margin Percentage\n",
    "An algorithm is required to test out what percentage of the parts that a factory is producing fall within a safety margin of the design specifications. Given a list of values recording the metrics of the manufactured parts, a list of values representing the desired metrics required by the design, and a margin of error allowed by the design, compute what fraction of the values are within the safety margin (<=)\n",
    "```\n",
    "# example behavior\n",
    ">>> within_margin_percentage(desired=[10.0, 5.0, 8.0, 3.0, 2.0],\n",
    "...                          actual= [10.3, 5.2, 8.4, 3.0, 1.2],\n",
    "...                          margin=0.5)\n",
    "0.8\n",
    "```"
   ]
  },
  {
   "cell_type": "code",
   "execution_count": 3,
   "metadata": {},
   "outputs": [
    {
     "data": {
      "text/plain": [
       "0.8"
      ]
     },
     "execution_count": 3,
     "metadata": {},
     "output_type": "execute_result"
    }
   ],
   "source": [
    "def within_margin_percentage(desired, actual, margin):\n",
    "    x = 0\n",
    "    for i in range(len(desired)):\n",
    "        if abs(actual[i] - desired[i]) > margin:\n",
    "            x += 1\n",
    "    return 1 - (x/len(desired))\n",
    "\n",
    "within_margin_percentage(desired=[10.0, 5.0, 8.0, 3.0, 2.0], actual= [10.3, 5.2, 8.4, 3.0, 1.2], margin=0.5)\n"
   ]
  }
 ],
 "metadata": {
  "kernelspec": {
   "display_name": "Python 3.9.12 ('base')",
   "language": "python",
   "name": "python3"
  },
  "language_info": {
   "codemirror_mode": {
    "name": "ipython",
    "version": 3
   },
   "file_extension": ".py",
   "mimetype": "text/x-python",
   "name": "python",
   "nbconvert_exporter": "python",
   "pygments_lexer": "ipython3",
   "version": "3.9.12"
  },
  "orig_nbformat": 4,
  "vscode": {
   "interpreter": {
    "hash": "41114b2906b0aff69b96566709ed5eb98d097eefe6c17e93f17b06059bd270f0"
   }
  }
 },
 "nbformat": 4,
 "nbformat_minor": 2
}
