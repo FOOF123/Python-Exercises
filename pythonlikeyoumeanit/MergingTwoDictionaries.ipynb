{
 "cells": [
  {
   "cell_type": "markdown",
   "metadata": {},
   "source": [
    "## Merging Two Dictionaries\n",
    "<p>Merge two dictionaries together such that the resulting dictionary always retain the greater value among mappings with common keys.<br>\n",
    "Here’s an example:</p>"
   ]
  },
  {
   "cell_type": "code",
   "execution_count": null,
   "metadata": {},
   "outputs": [],
   "source": [
    "# merging two dictionaries, retaining the greatest value among\n",
    "# common keys\n",
    ">>> dict1 = {'bananas': 7, 'apples': 3, 'pears': 14}\n",
    ">>> dict2 = {'bananas': 3, 'apples': 6, 'grapes': 9}\n",
    ">>> merge_max_mappings(dict1, dict2)\n",
    "{'bananas': 7, 'apples': 6, 'pears': 14, 'grapes': 9}"
   ]
  },
  {
   "cell_type": "markdown",
   "metadata": {},
   "source": [
    "Write a function that accepts two dictionaries and merges them in the fashion shown above. The dictionaries’ keys need not be strings, and the values should be any data type that can be ordered (e.g. can be compared using the inequality operators <, >, etc.)."
   ]
  },
  {
   "cell_type": "code",
   "execution_count": 30,
   "metadata": {},
   "outputs": [
    {
     "name": "stdout",
     "output_type": "stream",
     "text": [
      "{'bananas': 13, 'apples': 15, 'pears': 14, 'grapes': 9}\n"
     ]
    }
   ],
   "source": [
    "def merge_max_mappings(dict1, dict2):\n",
    "    output = list(dict1.keys()) + list(dict2.keys())\n",
    "    for i in output:\n",
    "        try:   \n",
    "            dict1[i] += dict2[i]\n",
    "        except:\n",
    "            try: \n",
    "                dict2[i] = dict1[i]\n",
    "            except:\n",
    "                dict1[i] = dict2[i]\n",
    "\n",
    "    return dict1\n",
    "\n",
    "dict1 = {'bananas': 7, 'apples': 3, 'pears': 14}\n",
    "dict2 = {'bananas': 3, 'apples': 6, 'grapes': 9}\n",
    "print(merge_max_mappings(dict1, dict2))\n"
   ]
  },
  {
   "cell_type": "code",
   "execution_count": 9,
   "metadata": {},
   "outputs": [
    {
     "name": "stdout",
     "output_type": "stream",
     "text": [
      "[1, 2, 3, 4]\n"
     ]
    }
   ],
   "source": [
    "a = {1: 1, 2: 2}\n",
    "b = {3: 3, 4: 4}\n",
    "print(list(a.keys()) + list(b.keys()))"
   ]
  }
 ],
 "metadata": {
  "kernelspec": {
   "display_name": "Python 3.10.4 64-bit",
   "language": "python",
   "name": "python3"
  },
  "language_info": {
   "codemirror_mode": {
    "name": "ipython",
    "version": 3
   },
   "file_extension": ".py",
   "mimetype": "text/x-python",
   "name": "python",
   "nbconvert_exporter": "python",
   "pygments_lexer": "ipython3",
   "version": "3.10.4"
  },
  "orig_nbformat": 4,
  "vscode": {
   "interpreter": {
    "hash": "3ad933181bd8a04b432d3370b9dc3b0662ad032c4dfaa4e4f1596c548f763858"
   }
  }
 },
 "nbformat": 4,
 "nbformat_minor": 2
}
