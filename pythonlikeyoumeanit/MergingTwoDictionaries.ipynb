{
 "cells": [
  {
   "cell_type": "markdown",
   "metadata": {},
   "source": [
    "## Merging Two Dictionaries\n",
    "<p>Merge two dictionaries together such that the resulting dictionary always retain the greater value among mappings with common keys.<br>\n",
    "Here’s an example:</p>"
   ]
  },
  {
   "cell_type": "code",
   "execution_count": null,
   "metadata": {},
   "outputs": [],
   "source": [
    "# merging two dictionaries, retaining the greatest value among\n",
    "# common keys\n",
    ">>> dict1 = {'bananas': 7, 'apples': 3, 'pears': 14}\n",
    ">>> dict2 = {'bananas': 3, 'apples': 6, 'grapes': 9}\n",
    ">>> merge_max_mappings(dict1, dict2)\n",
    "{'bananas': 7, 'apples': 6, 'pears': 14, 'grapes': 9}"
   ]
  },
  {
   "cell_type": "markdown",
   "metadata": {},
   "source": [
    "Write a function that accepts two dictionaries and merges them in the fashion shown above. The dictionaries’ keys need not be strings, and the values should be any data type that can be ordered (e.g. can be compared using the inequality operators <, >, etc.)."
   ]
  },
  {
   "cell_type": "code",
   "execution_count": 14,
   "metadata": {},
   "outputs": [
    {
     "ename": "ValueError",
     "evalue": "dictionary update sequence element #0 has length 7; 2 is required",
     "output_type": "error",
     "traceback": [
      "\u001b[1;31m---------------------------------------------------------------------------\u001b[0m",
      "\u001b[1;31mValueError\u001b[0m                                Traceback (most recent call last)",
      "\u001b[1;32mFOOF123\\Python-Exercises\\pythonlikeyoumeanit\\MergingTwoDictionaries.ipynb Cell 4\u001b[0m in \u001b[0;36m<cell line: 16>\u001b[1;34m()\u001b[0m\n\u001b[0;32m     <a href='vscode-notebook-cell://github/FOOF123/Python-Exercises/pythonlikeyoumeanit/MergingTwoDictionaries.ipynb#W3sdnNjb2RlLXZmcw%3D%3D?line=13'>14</a>\u001b[0m dict1 \u001b[39m=\u001b[39m {\u001b[39m'\u001b[39m\u001b[39mbananas\u001b[39m\u001b[39m'\u001b[39m: \u001b[39m7\u001b[39m, \u001b[39m'\u001b[39m\u001b[39mapples\u001b[39m\u001b[39m'\u001b[39m: \u001b[39m3\u001b[39m, \u001b[39m'\u001b[39m\u001b[39mpears\u001b[39m\u001b[39m'\u001b[39m: \u001b[39m14\u001b[39m}\n\u001b[0;32m     <a href='vscode-notebook-cell://github/FOOF123/Python-Exercises/pythonlikeyoumeanit/MergingTwoDictionaries.ipynb#W3sdnNjb2RlLXZmcw%3D%3D?line=14'>15</a>\u001b[0m dict2 \u001b[39m=\u001b[39m {\u001b[39m'\u001b[39m\u001b[39mbananas\u001b[39m\u001b[39m'\u001b[39m: \u001b[39m3\u001b[39m, \u001b[39m'\u001b[39m\u001b[39mapples\u001b[39m\u001b[39m'\u001b[39m: \u001b[39m6\u001b[39m, \u001b[39m'\u001b[39m\u001b[39mgrapes\u001b[39m\u001b[39m'\u001b[39m: \u001b[39m9\u001b[39m}\n\u001b[1;32m---> <a href='vscode-notebook-cell://github/FOOF123/Python-Exercises/pythonlikeyoumeanit/MergingTwoDictionaries.ipynb#W3sdnNjb2RlLXZmcw%3D%3D?line=15'>16</a>\u001b[0m \u001b[39mprint\u001b[39m(merge_max_mappings(dict1, dict2))\n",
      "\u001b[1;32mFOOF123\\Python-Exercises\\pythonlikeyoumeanit\\MergingTwoDictionaries.ipynb Cell 4\u001b[0m in \u001b[0;36mmerge_max_mappings\u001b[1;34m(dict1, dict2)\u001b[0m\n\u001b[0;32m      <a href='vscode-notebook-cell://github/FOOF123/Python-Exercises/pythonlikeyoumeanit/MergingTwoDictionaries.ipynb#W3sdnNjb2RlLXZmcw%3D%3D?line=0'>1</a>\u001b[0m \u001b[39mdef\u001b[39;00m \u001b[39mmerge_max_mappings\u001b[39m(dict1, dict2):\n\u001b[1;32m----> <a href='vscode-notebook-cell://github/FOOF123/Python-Exercises/pythonlikeyoumeanit/MergingTwoDictionaries.ipynb#W3sdnNjb2RlLXZmcw%3D%3D?line=1'>2</a>\u001b[0m     output \u001b[39m=\u001b[39m \u001b[39mdict\u001b[39;49m(\u001b[39mlist\u001b[39;49m(dict1\u001b[39m.\u001b[39;49mkeys()) \u001b[39m+\u001b[39;49m \u001b[39mlist\u001b[39;49m(dict2\u001b[39m.\u001b[39;49mkeys()))\n\u001b[0;32m      <a href='vscode-notebook-cell://github/FOOF123/Python-Exercises/pythonlikeyoumeanit/MergingTwoDictionaries.ipynb#W3sdnNjb2RlLXZmcw%3D%3D?line=2'>3</a>\u001b[0m     \u001b[39mfor\u001b[39;00m i \u001b[39min\u001b[39;00m output:\n\u001b[0;32m      <a href='vscode-notebook-cell://github/FOOF123/Python-Exercises/pythonlikeyoumeanit/MergingTwoDictionaries.ipynb#W3sdnNjb2RlLXZmcw%3D%3D?line=3'>4</a>\u001b[0m         \u001b[39mtry\u001b[39;00m:   \n",
      "\u001b[1;31mValueError\u001b[0m: dictionary update sequence element #0 has length 7; 2 is required"
     ]
    }
   ],
   "source": [
    "def merge_max_mappings(dict1, dict2):\n",
    "    output = dict(list(dict1.keys()) + list(dict2.keys()))\n",
    "    for i in output:\n",
    "        try:   \n",
    "            dict1[i] += dict2[i]\n",
    "        except:\n",
    "            try: \n",
    "                dict2[i] = dict1[i]\n",
    "            except:\n",
    "                dict1[i] = dict2[i]\n",
    "\n",
    "    return dict1\n",
    "\n",
    "dict1 = {'bananas': 7, 'apples': 3, 'pears': 14}\n",
    "dict2 = {'bananas': 3, 'apples': 6, 'grapes': 9}\n",
    "print(merge_max_mappings(dict1, dict2))\n"
   ]
  },
  {
   "cell_type": "code",
   "execution_count": 15,
   "metadata": {},
   "outputs": [
    {
     "ename": "TypeError",
     "evalue": "cannot convert dictionary update sequence element #0 to a sequence",
     "output_type": "error",
     "traceback": [
      "\u001b[1;31m---------------------------------------------------------------------------\u001b[0m",
      "\u001b[1;31mTypeError\u001b[0m                                 Traceback (most recent call last)",
      "\u001b[1;32mFOOF123\\Python-Exercises\\pythonlikeyoumeanit\\MergingTwoDictionaries.ipynb Cell 5\u001b[0m in \u001b[0;36m<cell line: 3>\u001b[1;34m()\u001b[0m\n\u001b[0;32m      <a href='vscode-notebook-cell://github/FOOF123/Python-Exercises/pythonlikeyoumeanit/MergingTwoDictionaries.ipynb#W4sdnNjb2RlLXZmcw%3D%3D?line=0'>1</a>\u001b[0m a \u001b[39m=\u001b[39m {\u001b[39m1\u001b[39m: \u001b[39m1\u001b[39m, \u001b[39m2\u001b[39m: \u001b[39m2\u001b[39m}\n\u001b[0;32m      <a href='vscode-notebook-cell://github/FOOF123/Python-Exercises/pythonlikeyoumeanit/MergingTwoDictionaries.ipynb#W4sdnNjb2RlLXZmcw%3D%3D?line=1'>2</a>\u001b[0m b \u001b[39m=\u001b[39m {\u001b[39m3\u001b[39m: \u001b[39m3\u001b[39m, \u001b[39m4\u001b[39m: \u001b[39m4\u001b[39m}\n\u001b[1;32m----> <a href='vscode-notebook-cell://github/FOOF123/Python-Exercises/pythonlikeyoumeanit/MergingTwoDictionaries.ipynb#W4sdnNjb2RlLXZmcw%3D%3D?line=2'>3</a>\u001b[0m \u001b[39mprint\u001b[39m(\u001b[39mdict\u001b[39;49m(\u001b[39mlist\u001b[39;49m(a\u001b[39m.\u001b[39;49mkeys()) \u001b[39m+\u001b[39;49m \u001b[39mlist\u001b[39;49m(b\u001b[39m.\u001b[39;49mkeys())))\n",
      "\u001b[1;31mTypeError\u001b[0m: cannot convert dictionary update sequence element #0 to a sequence"
     ]
    }
   ],
   "source": [
    "a = {1: 1, 2: 2}\n",
    "b = {3: 3, 4: 4}\n",
    "print(dict(list(a.keys()) + list(b.keys())))"
   ]
  }
 ],
 "metadata": {
  "kernelspec": {
   "display_name": "Python 3.9.12 ('base')",
   "language": "python",
   "name": "python3"
  },
  "language_info": {
   "codemirror_mode": {
    "name": "ipython",
    "version": 3
   },
   "file_extension": ".py",
   "mimetype": "text/x-python",
   "name": "python",
   "nbconvert_exporter": "python",
   "pygments_lexer": "ipython3",
   "version": "3.9.12"
  },
  "orig_nbformat": 4,
  "vscode": {
   "interpreter": {
    "hash": "41114b2906b0aff69b96566709ed5eb98d097eefe6c17e93f17b06059bd270f0"
   }
  }
 },
 "nbformat": 4,
 "nbformat_minor": 2
}
