{
 "cells": [
  {
   "cell_type": "markdown",
   "metadata": {},
   "source": [
    "## Merging Two Dictionaries\n",
    "<p>Merge two dictionaries together such that the resulting dictionary always retain the greater value among mappings with common keys.<br>\n",
    "Here’s an example:</p>"
   ]
  },
  {
   "cell_type": "code",
   "execution_count": null,
   "metadata": {},
   "outputs": [],
   "source": [
    "# merging two dictionaries, retaining the greatest value among\n",
    "# common keys\n",
    ">>> dict1 = {'bananas': 7, 'apples': 3, 'pears': 14}\n",
    ">>> dict2 = {'bananas': 3, 'apples': 6, 'grapes': 9}\n",
    ">>> merge_max_mappings(dict1, dict2)\n",
    "{'bananas': 7, 'apples': 6, 'pears': 14, 'grapes': 9}"
   ]
  },
  {
   "cell_type": "markdown",
   "metadata": {},
   "source": [
    "Write a function that accepts two dictionaries and merges them in the fashion shown above. The dictionaries’ keys need not be strings, and the values should be any data type that can be ordered (e.g. can be compared using the inequality operators <, >, etc.)."
   ]
  },
  {
   "cell_type": "code",
   "execution_count": 17,
   "metadata": {},
   "outputs": [
    {
     "name": "stdout",
     "output_type": "stream",
     "text": [
      "{'bananas': 7, 'apples': 6, 'pears': 14, 'grapes': 9}\n"
     ]
    }
   ],
   "source": [
    "def merge_max_mappings(dict1, dict2):\n",
    "    keys = list(dict1.keys()) + list(dict2.keys())\n",
    "    output = {}\n",
    "    for i in keys:\n",
    "        try:\n",
    "            output[i] = max((dict1[i], dict2[i]))\n",
    "        except:\n",
    "            if i not in dict1:\n",
    "                output[i] = dict2[i]\n",
    "            else:\n",
    "                output[i] = dict1[i]\n",
    "\n",
    "    return output\n",
    "\n",
    "dict1 = {'bananas': 7, 'apples': 3, 'pears': 14}\n",
    "dict2 = {'bananas': 7, 'apples': 6, 'grapes': 9}\n",
    "print(merge_max_mappings(dict1, dict2))\n"
   ]
  }
 ],
 "metadata": {
  "kernelspec": {
   "display_name": "Python 3.9.12 ('base')",
   "language": "python",
   "name": "python3"
  },
  "language_info": {
   "codemirror_mode": {
    "name": "ipython",
    "version": 3
   },
   "file_extension": ".py",
   "mimetype": "text/x-python",
   "name": "python",
   "nbconvert_exporter": "python",
   "pygments_lexer": "ipython3",
   "version": "3.9.12"
  },
  "orig_nbformat": 4,
  "vscode": {
   "interpreter": {
    "hash": "41114b2906b0aff69b96566709ed5eb98d097eefe6c17e93f17b06059bd270f0"
   }
  }
 },
 "nbformat": 4,
 "nbformat_minor": 2
}
